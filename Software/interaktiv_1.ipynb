{
 "cells": [
  {
   "cell_type": "code",
   "execution_count": null,
   "metadata": {},
   "outputs": [],
   "source": [
    "# -*- coding: utf-8 -*-\n",
    "\"\"\"\n",
    "Created on Thu Mar 15 11:32:19 2018\n",
    "\n",
    "@author: martin.bachmann@dlr.de\n",
    "\"\"\"\n",
    "\n",
    "# Features:\n",
    "# - correct for spectrometer drift (\"jump correction\") with multiple options \n",
    "#   (additive, multiplicative, ...)\n",
    "# - optional: averaging & stats (all in SpecLib, or every n spectra) w. options\n",
    "# - data scaling\n",
    "# - wavelength unit conversion \n",
    "#\n",
    "# ToDo:\n",
    "# - replace spectral python routines\n",
    "#\n",
    "# Upcoming Features:\n",
    "# - interpolation of atm. absorption features\n",
    "# - filtering & smoothing\n",
    "# - derivatives\n",
    "# - spectral indices \n",
    "# - change handling of standard parameters \n",
    "# - additional GUI version for inputs \n",
    "# - extended batch processing (=> Christophs IDL-Code )\n",
    "\n",
    "\n",
    "import numpy as np \n",
    "import matplotlib.pyplot as plt     # <= for plotting\n",
    "import os\n",
    "\n",
    "#import csv   # <= in order to export it in CSV format...\n",
    "\n",
    "import spectral.io.envi as envi\n",
    "# from spectral.utilities.python23 import IS_PYTHON3\n",
    "# if IS_PYTHON3:\n",
    "#     import builtins\n",
    "# else:\n",
    "#     import __builtin__ as builtins\n",
    "    \n",
    "from tkinter import *\n",
    "from tkinter import ttk\n",
    "# from tkinter.filedialog import askopenfilename\n",
    "from tkinter import filedialog\n",
    "import tkinter \n",
    "\n",
    "\n",
    "# check if it runs:\n",
    "tkinter._test()"
   ]
  },
  {
   "cell_type": "code",
   "execution_count": null,
   "metadata": {},
   "outputs": [],
   "source": [
    "# file selection dialog using tkinter...\n",
    "    \n",
    "root = Tk( )\n",
    "root.filename =  filedialog.askopenfilename(initialdir = \"C:/Users/\",title = \"Select file\",filetypes = ((\"SpecLibs\",\"*.hdr\"),(\"all files\",\"*.*\")))\n",
    "infile = root.filename\n",
    "if not(os.path.isfile(infile)): \n",
    "    print(\"Warning - provided file does not exist!\")\n",
    "    exit()\n",
    "   \n",
    "root.withdraw()\n",
    "root.destroy()\n"
   ]
  },
  {
   "cell_type": "code",
   "execution_count": null,
   "metadata": {},
   "outputs": [],
   "source": [
    "\n",
    "\n",
    "infile =\"C:/Users/bachma_m/Documents/__JENA_2020/Python_J2020/lai_serie1.slb.hdr\"\n",
    "\n",
    "print(infile)"
   ]
  },
  {
   "cell_type": "code",
   "execution_count": null,
   "metadata": {},
   "outputs": [],
   "source": [
    "#-------------------------------------------------------   \n",
    "# now load the data & metadata...    \n",
    "\n",
    "lib_in = envi.open(infile)\n",
    "spec = lib_in.spectra\n",
    "names = lib_in.names\n",
    "nspec = spec.shape[0]\n",
    "nbands= spec.shape[1]\n",
    "wavel =  lib_in.bands.centers\n",
    "fwhm =  lib_in.bands.bandwidths \n",
    "units =  lib_in.bands.band_unit"
   ]
  },
  {
   "cell_type": "code",
   "execution_count": null,
   "metadata": {},
   "outputs": [],
   "source": [
    "print(names)\n"
   ]
  },
  {
   "cell_type": "code",
   "execution_count": null,
   "metadata": {},
   "outputs": [],
   "source": [
    "# plot the first 3 spectra:\n",
    "plt.plot(wavel, spec[0,:])\n",
    "plt.plot(wavel, spec[10,:])\n",
    "plt.plot(wavel, spec[5,:])\n",
    "plt.ylabel('reflectance')\n",
    "plt.xlabel('Wavelength [' +  units + ']')\n",
    "plt.show()\n"
   ]
  },
  {
   "cell_type": "code",
   "execution_count": null,
   "metadata": {},
   "outputs": [],
   "source": [
    "spec.shape"
   ]
  },
  {
   "cell_type": "code",
   "execution_count": null,
   "metadata": {},
   "outputs": [],
   "source": [
    "plt.plot(spec[9,100:500])\n",
    "plt.ylabel('reflectance')\n",
    "plt.show()"
   ]
  },
  {
   "cell_type": "code",
   "execution_count": null,
   "metadata": {},
   "outputs": [],
   "source": [
    "spec.shape\n"
   ]
  },
  {
   "cell_type": "code",
   "execution_count": null,
   "metadata": {},
   "outputs": [],
   "source": [
    "ndvi = (spec[:,450]-spec[:,320])/(spec[:,450]+spec[:,320])"
   ]
  },
  {
   "cell_type": "code",
   "execution_count": null,
   "metadata": {},
   "outputs": [],
   "source": [
    "plt.plot(ndvi)"
   ]
  },
  {
   "cell_type": "code",
   "execution_count": null,
   "metadata": {},
   "outputs": [],
   "source": [
    "lai = np.asarray([0,0,0,0,0.5,0.5,0.5,0.5,1,1,1,1,2,2,2,2,3,3,3,3])\n"
   ]
  },
  {
   "cell_type": "code",
   "execution_count": null,
   "metadata": {},
   "outputs": [],
   "source": [
    "plt.plot(lai, ndvi)"
   ]
  },
  {
   "cell_type": "code",
   "execution_count": null,
   "metadata": {},
   "outputs": [],
   "source": [
    "plt.plot(lai, ndvi, 'ko')\n",
    "plt.xlabel('LAI')\n",
    "plt.ylabel('NDVI')\n",
    "plt.show()"
   ]
  },
  {
   "cell_type": "code",
   "execution_count": null,
   "metadata": {},
   "outputs": [],
   "source": [
    "# wenn man nun nur den ref. in NIR bei Band 450 (800 nm) nimmt:\n",
    "plt.plot(lai, spec[:,450], 'ko')\n",
    "plt.xlabel('LAI')\n",
    "plt.ylabel('rho_450')\n",
    "plt.show()"
   ]
  },
  {
   "cell_type": "code",
   "execution_count": null,
   "metadata": {},
   "outputs": [],
   "source": [
    "from sklearn.cross_decomposition import PLSRegression\n",
    "from sklearn.metrics import mean_squared_error, r2_score, mean_absolute_error \n",
    "from sklearn.model_selection import cross_val_predict, train_test_split \n",
    "from sklearn.linear_model import LinearRegression"
   ]
  },
  {
   "cell_type": "code",
   "execution_count": null,
   "metadata": {},
   "outputs": [],
   "source": [
    "plt.plot(lai, ndvi, 'ko')\n",
    "plt.xlabel('LAI')\n",
    "plt.ylabel('NDVI')\n",
    "plt.show()"
   ]
  },
  {
   "cell_type": "code",
   "execution_count": null,
   "metadata": {},
   "outputs": [],
   "source": [
    "print(\"NDVI shape vorher:\",ndvi.shape)\n",
    "ndvi = ndvi.reshape(-1,1)\n",
    "print(\"Nachher: \",ndvi.shape)\n",
    "myfit = LinearRegression(fit_intercept=True)\n",
    "myfit.fit(ndvi, lai)\n",
    "print('Intercept : ',myfit.intercept_)\n",
    "print('Gain coeff of the 4 features: ',myfit.coef_)\n"
   ]
  },
  {
   "cell_type": "code",
   "execution_count": null,
   "metadata": {},
   "outputs": [],
   "source": [
    "# now the predicted lai\n",
    "lai_linpred = myfit.predict(ndvi)\n",
    "print('R2 :',r2_score(lai, lai_linpred))\n",
    "print('Mean Absolute Error:', mean_absolute_error(lai, lai_linpred))  \n",
    "print('Root Mean Squared Error:', np.sqrt(mean_squared_error(lai, lai_linpred)) )\n",
    "print('Mean Squared Error:', mean_squared_error(lai, lai_linpred)) \n"
   ]
  },
  {
   "cell_type": "code",
   "execution_count": null,
   "metadata": {},
   "outputs": [],
   "source": [
    "print(ndvi)\n",
    "ndvi.shape\n",
    "zzz = np.arange(0, 100, dtype=float)/100\n",
    "\n",
    "zzz = zzz.reshape(-1,1)\n",
    "zzzpred = myfit.predict(zzz)\n"
   ]
  },
  {
   "cell_type": "code",
   "execution_count": null,
   "metadata": {},
   "outputs": [],
   "source": [
    "plt.figure()\n",
    "plt.plot(lai, ndvi, 'ko', label=\"Original Data\")\n",
    "plt.plot(zzzpred, zzz, 'b-', label=\"fun\")\n",
    "plt.plot(lai_linpred, ndvi, 'r-', label=\"Fitted Linear Model\")\n",
    "plt.xlabel('LAI')\n",
    "plt.ylabel('NDVI')\n",
    "plt.legend()\n",
    "plt.show()\n"
   ]
  },
  {
   "cell_type": "code",
   "execution_count": null,
   "metadata": {},
   "outputs": [],
   "source": [
    "# nun der Fit mit Polynom 2. ordnung\n",
    "# wegen 1-d vektor:\n",
    "ndvi = (spec[:,450]-spec[:,300])/(spec[:,450]+spec[:,300])\n",
    "\n",
    "curve_fit_2nd = np.polyfit(ndvi, lai, 2)\n",
    "print('2nd coeff: ', curve_fit_2nd)\n",
    "lai_pred_2nd = curve_fit_2nd[0] * ndvi*ndvi + curve_fit_2nd[1] * ndvi+ curve_fit_2nd[2]\n",
    "print('R2:',r2_score(lai, lai_pred_2nd))\n",
    "print('Mean Squared Error:', mean_squared_error(lai, lai_pred_2nd)) \n"
   ]
  },
  {
   "cell_type": "code",
   "execution_count": null,
   "metadata": {},
   "outputs": [],
   "source": []
  },
  {
   "cell_type": "code",
   "execution_count": null,
   "metadata": {},
   "outputs": [],
   "source": [
    "plt.figure()\n",
    "plt.plot(lai, ndvi, 'ko', label=\"Original Data\")\n",
    "plt.plot(lai_pred_2nd, ndvi ,'r-', label=\"Fitted Curve 2nd\")\n",
    "plt.xlabel('LAI')\n",
    "plt.ylabel('NDVI')\n",
    "plt.legend()\n",
    "plt.show()\n"
   ]
  },
  {
   "cell_type": "code",
   "execution_count": null,
   "metadata": {},
   "outputs": [],
   "source": [
    "zzz = np.arange(0, 100, dtype=float)/100\n",
    "zzz = zzz.reshape(-1,1)\n",
    "#zzzpred = myfit.predict(zzz)\n",
    "\n",
    "zzzpred = curve_fit_2nd[0] * zzz*zzz + curve_fit_2nd[1] * zzz+ curve_fit_2nd[2]\n",
    "\n"
   ]
  },
  {
   "cell_type": "code",
   "execution_count": null,
   "metadata": {},
   "outputs": [],
   "source": [
    "plt.figure()\n",
    "plt.plot(lai, ndvi, 'ko', label=\"Original Data\")\n",
    "plt.plot(lai_pred_2nd, ndvi ,'r-', label=\"Fitted Curve 2nd\")\n",
    "plt.plot(zzzpred, zzz, 'b-', label=\"For a nice plot\")\n",
    "plt.xlabel('LAI')\n",
    "plt.ylabel('NDVI')\n",
    "plt.legend()\n",
    "plt.show()\n"
   ]
  },
  {
   "cell_type": "code",
   "execution_count": null,
   "metadata": {},
   "outputs": [],
   "source": [
    "import scipy\n",
    "print('Sklearn R2:',r2_score(lai, lai_pred_2nd))\n",
    "print('Scipy: ', scipy.stats.pearsonr(lai, lai_pred_2nd))"
   ]
  },
  {
   "cell_type": "code",
   "execution_count": null,
   "metadata": {},
   "outputs": [],
   "source": [
    "0.8372461243774278*0.8372461243774278\n"
   ]
  },
  {
   "cell_type": "code",
   "execution_count": null,
   "metadata": {},
   "outputs": [],
   "source": []
  }
 ],
 "metadata": {
  "kernelspec": {
   "display_name": "Python 3 (ipykernel)",
   "language": "python",
   "name": "python3"
  },
  "language_info": {
   "codemirror_mode": {
    "name": "ipython",
    "version": 3
   },
   "file_extension": ".py",
   "mimetype": "text/x-python",
   "name": "python",
   "nbconvert_exporter": "python",
   "pygments_lexer": "ipython3",
   "version": "3.9.12"
  }
 },
 "nbformat": 4,
 "nbformat_minor": 4
}
